{
 "cells": [
  {
   "cell_type": "code",
   "execution_count": 1,
   "metadata": {},
   "outputs": [],
   "source": [
    "import numpy as np\n",
    "import pandas as pd\n",
    "import json\n",
    "import os"
   ]
  },
  {
   "cell_type": "code",
   "execution_count": 13,
   "metadata": {},
   "outputs": [
    {
     "data": {
      "text/plain": [
       "'c:\\\\Users\\\\HALID\\\\Documents\\\\ITE Assignment\\\\ITE-data-sciene-assignment\\\\code'"
      ]
     },
     "execution_count": 13,
     "metadata": {},
     "output_type": "execute_result"
    }
   ],
   "source": [
    "os.getcwd()"
   ]
  },
  {
   "cell_type": "code",
   "execution_count": 40,
   "metadata": {},
   "outputs": [],
   "source": [
    "visitors=pd.read_csv(\"C:\\\\Users\\\\HALID\\\\Documents\\\\ITE Assignment\\\\ITE-data-sciene-assignment\\\\source\\\\visitors.csv\")\n",
    "visitors_questions=pd.read_csv(\"C:\\\\Users\\\\HALID\\\\Documents\\\\ITE Assignment\\\\ITE-data-sciene-assignment\\\\source\\\\visitors_questions.csv\")\n",
    "visitors_answers=pd.read_csv(\"C:\\\\Users\\\\HALID\\\\Documents\\\\ITE Assignment\\\\ITE-data-sciene-assignment\\\\source\\\\visitors_answers.csv\")\n",
    "exhibitors=pd.read_csv(\"C:\\\\Users\\\\HALID\\\\Documents\\\\ITE Assignment\\\\ITE-data-sciene-assignment\\\\source\\\\exhibitors.csv\")\n",
    "exhibitor_categories=pd.read_csv(\"C:\\\\Users\\\\HALID\\\\Documents\\\\ITE Assignment\\\\ITE-data-sciene-assignment\\\\source\\\\exhibitor_categories.csv\")"
   ]
  },
  {
   "cell_type": "code",
   "execution_count": 41,
   "metadata": {},
   "outputs": [],
   "source": [
    "visitors['data']=visitors['data'].apply(json.loads)\n",
    "visitors_exploded=visitors.explode('data').reset_index(drop=True)\n",
    "visitors_normalized=pd.json_normalize(visitors_exploded['data'])\n",
    "visitors_final=visitors_exploded.drop(columns='data').join(visitors_normalized)"
   ]
  },
  {
   "cell_type": "code",
   "execution_count": 52,
   "metadata": {},
   "outputs": [
    {
     "name": "stdout",
     "output_type": "stream",
     "text": [
      "original visitor record count: 100\n",
      "original visitor unique count: 100\n",
      "original visitor column count: 4\n",
      "Final visitor record count: 2827\n",
      "Final visitor unique count: 100\n",
      "Final visitor column count: 8\n"
     ]
    }
   ],
   "source": [
    "print(\"original visitor record count:\",visitors['id'].count())\n",
    "print(\"original visitor unique count:\",visitors['id'].nunique())\n",
    "print(\"original visitor column count:\",len(visitors.columns))\n",
    "print(\"Final visitor record count:\",visitors_final['id'].count())\n",
    "print(\"Final visitor unique count:\",visitors_final['id'].nunique())\n",
    "print(\"Final visitor column count:\",len(visitors_final.columns))"
   ]
  },
  {
   "cell_type": "code",
   "execution_count": 83,
   "metadata": {},
   "outputs": [],
   "source": [
    "visitors_final_df=visitors_final.merge(visitors_questions.add_suffix(\"_questions\"),left_on='questionId',right_on=\"id_questions\",how='left').merge(visitors_answers.add_suffix(\"_answers\"),left_on='questionId',right_on=\"questionId_answers\",how='left').drop(['questionId_answers','id_answers','stepId_questions','questionId','id_questions','questionTypeId_questions','stepId_questions'],axis=1)"
   ]
  },
  {
   "cell_type": "code",
   "execution_count": 87,
   "metadata": {},
   "outputs": [
    {
     "data": {
      "text/plain": [
       "Series([], Name: question_questions, dtype: int64)"
      ]
     },
     "execution_count": 87,
     "metadata": {},
     "output_type": "execute_result"
    }
   ],
   "source": [
    "visitors_final_df[~visitors_final_df['answerTypeId'].isin(['Answer'])]['question_questions'].value_counts()"
   ]
  },
  {
   "cell_type": "code",
   "execution_count": 89,
   "metadata": {},
   "outputs": [
    {
     "data": {
      "text/plain": [
       "Series([], Name: answer_answers, dtype: int64)"
      ]
     },
     "execution_count": 89,
     "metadata": {},
     "output_type": "execute_result"
    }
   ],
   "source": [
    "visitors_final_df[~visitors_final_df['answerTypeId'].isin(['Answer'])]['answer_answers'].value_counts()"
   ]
  },
  {
   "cell_type": "code",
   "execution_count": 91,
   "metadata": {},
   "outputs": [],
   "source": [
    "visitors_final_df['Country']=visitors_final_df.apply(lambda x:x['answerValue'] if x['answerTypeId']=='Country' else None,axis=1)"
   ]
  },
  {
   "cell_type": "code",
   "execution_count": 93,
   "metadata": {},
   "outputs": [],
   "source": [
    "visitors_final_df['Region']=visitors_final_df.apply(lambda x:x['answerValue'] if x['answerTypeId']=='Region' else None,axis=1)"
   ]
  },
  {
   "cell_type": "code",
   "execution_count": 102,
   "metadata": {},
   "outputs": [
    {
     "data": {
      "text/html": [
       "<div>\n",
       "<style scoped>\n",
       "    .dataframe tbody tr th:only-of-type {\n",
       "        vertical-align: middle;\n",
       "    }\n",
       "\n",
       "    .dataframe tbody tr th {\n",
       "        vertical-align: top;\n",
       "    }\n",
       "\n",
       "    .dataframe thead th {\n",
       "        text-align: right;\n",
       "    }\n",
       "</style>\n",
       "<table border=\"1\" class=\"dataframe\">\n",
       "  <thead>\n",
       "    <tr style=\"text-align: right;\">\n",
       "      <th></th>\n",
       "      <th>email</th>\n",
       "      <th>gender</th>\n",
       "      <th>id</th>\n",
       "      <th>stepId</th>\n",
       "      <th>answerValue</th>\n",
       "      <th>answerId</th>\n",
       "      <th>answerTypeId</th>\n",
       "      <th>question_questions</th>\n",
       "      <th>answer_answers</th>\n",
       "      <th>Country</th>\n",
       "      <th>Region</th>\n",
       "    </tr>\n",
       "  </thead>\n",
       "  <tbody>\n",
       "    <tr>\n",
       "      <th>0</th>\n",
       "      <td>emilija+100_L8gA@bss.mk</td>\n",
       "      <td>F</td>\n",
       "      <td>67b70a9f2d21f543a1096602</td>\n",
       "      <td>5c8a78336d41a10da4f730ef</td>\n",
       "      <td></td>\n",
       "      <td>5c8a78336d41a10da4f730f2</td>\n",
       "      <td>Answer</td>\n",
       "      <td>NaN</td>\n",
       "      <td>NaN</td>\n",
       "      <td>Russia</td>\n",
       "      <td>None</td>\n",
       "    </tr>\n",
       "    <tr>\n",
       "      <th>1</th>\n",
       "      <td>emilija+100_L8gA@bss.mk</td>\n",
       "      <td>F</td>\n",
       "      <td>67b70a9f2d21f543a1096602</td>\n",
       "      <td>6507da8d9e117216630ef7ed</td>\n",
       "      <td>emilija+100_L8gA@bss.mk</td>\n",
       "      <td></td>\n",
       "      <td>Answer</td>\n",
       "      <td>NaN</td>\n",
       "      <td>NaN</td>\n",
       "      <td>Russia</td>\n",
       "      <td>None</td>\n",
       "    </tr>\n",
       "    <tr>\n",
       "      <th>2</th>\n",
       "      <td>emilija+100_L8gA@bss.mk</td>\n",
       "      <td>F</td>\n",
       "      <td>67b70a9f2d21f543a1096602</td>\n",
       "      <td>6507dfbb9e117216630ef7f3</td>\n",
       "      <td>3138</td>\n",
       "      <td></td>\n",
       "      <td>Answer</td>\n",
       "      <td>NaN</td>\n",
       "      <td>NaN</td>\n",
       "      <td>Russia</td>\n",
       "      <td>None</td>\n",
       "    </tr>\n",
       "    <tr>\n",
       "      <th>3</th>\n",
       "      <td>emilija+100_L8gA@bss.mk</td>\n",
       "      <td>F</td>\n",
       "      <td>67b70a9f2d21f543a1096602</td>\n",
       "      <td>5c8a78336d41a10da4f733ce</td>\n",
       "      <td>Eme</td>\n",
       "      <td></td>\n",
       "      <td>Answer</td>\n",
       "      <td>NaN</td>\n",
       "      <td>NaN</td>\n",
       "      <td>Russia</td>\n",
       "      <td>None</td>\n",
       "    </tr>\n",
       "    <tr>\n",
       "      <th>4</th>\n",
       "      <td>emilija+100_L8gA@bss.mk</td>\n",
       "      <td>F</td>\n",
       "      <td>67b70a9f2d21f543a1096602</td>\n",
       "      <td>5c8a78336d41a10da4f733ce</td>\n",
       "      <td>Jankova</td>\n",
       "      <td></td>\n",
       "      <td>Answer</td>\n",
       "      <td>NaN</td>\n",
       "      <td>NaN</td>\n",
       "      <td>Russia</td>\n",
       "      <td>None</td>\n",
       "    </tr>\n",
       "    <tr>\n",
       "      <th>...</th>\n",
       "      <td>...</td>\n",
       "      <td>...</td>\n",
       "      <td>...</td>\n",
       "      <td>...</td>\n",
       "      <td>...</td>\n",
       "      <td>...</td>\n",
       "      <td>...</td>\n",
       "      <td>...</td>\n",
       "      <td>...</td>\n",
       "      <td>...</td>\n",
       "      <td>...</td>\n",
       "    </tr>\n",
       "    <tr>\n",
       "      <th>1277</th>\n",
       "      <td>sergey.usenko_ucwx@ite.group</td>\n",
       "      <td>F</td>\n",
       "      <td>67b5e25c774d9e718c7541de</td>\n",
       "      <td>5c8a78336d41a10da4f730fd</td>\n",
       "      <td></td>\n",
       "      <td>5c8a78336d41a10da4f73103</td>\n",
       "      <td>Answer</td>\n",
       "      <td>Reason for Attending the Event</td>\n",
       "      <td>To source products and services</td>\n",
       "      <td>New Zealand</td>\n",
       "      <td>None</td>\n",
       "    </tr>\n",
       "    <tr>\n",
       "      <th>1278</th>\n",
       "      <td>sergey.usenko_ucwx@ite.group</td>\n",
       "      <td>F</td>\n",
       "      <td>67b5e25c774d9e718c7541de</td>\n",
       "      <td>5c8a78336d41a10da4f730fd</td>\n",
       "      <td></td>\n",
       "      <td>5c8a78336d41a10da4f73103</td>\n",
       "      <td>Answer</td>\n",
       "      <td>Reason for Attending the Event</td>\n",
       "      <td>To promote products and services</td>\n",
       "      <td>New Zealand</td>\n",
       "      <td>None</td>\n",
       "    </tr>\n",
       "    <tr>\n",
       "      <th>1279</th>\n",
       "      <td>sergey.usenko_ucwx@ite.group</td>\n",
       "      <td>F</td>\n",
       "      <td>67b5e25c774d9e718c7541de</td>\n",
       "      <td>5c8a78336d41a10da4f730fd</td>\n",
       "      <td></td>\n",
       "      <td>5c8a78336d41a10da4f73103</td>\n",
       "      <td>Answer</td>\n",
       "      <td>Reason for Attending the Event</td>\n",
       "      <td>Educational purposes</td>\n",
       "      <td>New Zealand</td>\n",
       "      <td>None</td>\n",
       "    </tr>\n",
       "    <tr>\n",
       "      <th>1280</th>\n",
       "      <td>sergey.usenko_ucwx@ite.group</td>\n",
       "      <td>F</td>\n",
       "      <td>67b5e25c774d9e718c7541de</td>\n",
       "      <td>5c8a78336d41a10da4f730fd</td>\n",
       "      <td></td>\n",
       "      <td>67acaf10197e604dd2722d0b</td>\n",
       "      <td>Answer</td>\n",
       "      <td>NaN</td>\n",
       "      <td>NaN</td>\n",
       "      <td>New Zealand</td>\n",
       "      <td>None</td>\n",
       "    </tr>\n",
       "    <tr>\n",
       "      <th>1281</th>\n",
       "      <td>sergey.usenko_ucwx@ite.group</td>\n",
       "      <td>F</td>\n",
       "      <td>67b5e25c774d9e718c7541de</td>\n",
       "      <td>5c8a78336d41a10da4f7337a</td>\n",
       "      <td></td>\n",
       "      <td>5c8a78336d41a10da4f73380</td>\n",
       "      <td>Answer</td>\n",
       "      <td>NaN</td>\n",
       "      <td>NaN</td>\n",
       "      <td>New Zealand</td>\n",
       "      <td>None</td>\n",
       "    </tr>\n",
       "  </tbody>\n",
       "</table>\n",
       "<p>86 rows × 11 columns</p>\n",
       "</div>"
      ],
      "text/plain": [
       "                             email gender                        id  \\\n",
       "0          emilija+100_L8gA@bss.mk      F  67b70a9f2d21f543a1096602   \n",
       "1          emilija+100_L8gA@bss.mk      F  67b70a9f2d21f543a1096602   \n",
       "2          emilija+100_L8gA@bss.mk      F  67b70a9f2d21f543a1096602   \n",
       "3          emilija+100_L8gA@bss.mk      F  67b70a9f2d21f543a1096602   \n",
       "4          emilija+100_L8gA@bss.mk      F  67b70a9f2d21f543a1096602   \n",
       "...                            ...    ...                       ...   \n",
       "1277  sergey.usenko_ucwx@ite.group      F  67b5e25c774d9e718c7541de   \n",
       "1278  sergey.usenko_ucwx@ite.group      F  67b5e25c774d9e718c7541de   \n",
       "1279  sergey.usenko_ucwx@ite.group      F  67b5e25c774d9e718c7541de   \n",
       "1280  sergey.usenko_ucwx@ite.group      F  67b5e25c774d9e718c7541de   \n",
       "1281  sergey.usenko_ucwx@ite.group      F  67b5e25c774d9e718c7541de   \n",
       "\n",
       "                        stepId              answerValue  \\\n",
       "0     5c8a78336d41a10da4f730ef                            \n",
       "1     6507da8d9e117216630ef7ed  emilija+100_L8gA@bss.mk   \n",
       "2     6507dfbb9e117216630ef7f3                     3138   \n",
       "3     5c8a78336d41a10da4f733ce                      Eme   \n",
       "4     5c8a78336d41a10da4f733ce                  Jankova   \n",
       "...                        ...                      ...   \n",
       "1277  5c8a78336d41a10da4f730fd                            \n",
       "1278  5c8a78336d41a10da4f730fd                            \n",
       "1279  5c8a78336d41a10da4f730fd                            \n",
       "1280  5c8a78336d41a10da4f730fd                            \n",
       "1281  5c8a78336d41a10da4f7337a                            \n",
       "\n",
       "                      answerId answerTypeId              question_questions  \\\n",
       "0     5c8a78336d41a10da4f730f2       Answer                             NaN   \n",
       "1                                    Answer                             NaN   \n",
       "2                                    Answer                             NaN   \n",
       "3                                    Answer                             NaN   \n",
       "4                                    Answer                             NaN   \n",
       "...                        ...          ...                             ...   \n",
       "1277  5c8a78336d41a10da4f73103       Answer  Reason for Attending the Event   \n",
       "1278  5c8a78336d41a10da4f73103       Answer  Reason for Attending the Event   \n",
       "1279  5c8a78336d41a10da4f73103       Answer  Reason for Attending the Event   \n",
       "1280  67acaf10197e604dd2722d0b       Answer                             NaN   \n",
       "1281  5c8a78336d41a10da4f73380       Answer                             NaN   \n",
       "\n",
       "                        answer_answers      Country Region  \n",
       "0                                  NaN       Russia   None  \n",
       "1                                  NaN       Russia   None  \n",
       "2                                  NaN       Russia   None  \n",
       "3                                  NaN       Russia   None  \n",
       "4                                  NaN       Russia   None  \n",
       "...                                ...          ...    ...  \n",
       "1277   To source products and services  New Zealand   None  \n",
       "1278  To promote products and services  New Zealand   None  \n",
       "1279             Educational purposes   New Zealand   None  \n",
       "1280                               NaN  New Zealand   None  \n",
       "1281                               NaN  New Zealand   None  \n",
       "\n",
       "[86 rows x 11 columns]"
      ]
     },
     "execution_count": 102,
     "metadata": {},
     "output_type": "execute_result"
    }
   ],
   "source": [
    "visitors_final_df[visitors_final_df['id'].isin(['67b70a9f2d21f543a1096602','67b5e25c774d9e718c7541de'])]"
   ]
  },
  {
   "cell_type": "code",
   "execution_count": null,
   "metadata": {},
   "outputs": [],
   "source": [
    "visitors_final_df['Country']=visitors_final_df.groupby('id')['Country'].transform(lambda x:x.ffill().bfill())\n",
    "visitors_final_df['Region']=visitors_final_df.groupby('id')['Region'].transform(lambda x:x.ffill().bfill())"
   ]
  },
  {
   "cell_type": "code",
   "execution_count": 110,
   "metadata": {},
   "outputs": [],
   "source": [
    "visitors_final_df=visitors_final_df[~visitors_final_df['answerTypeId'].isin(['Country','Region'])].reset_index(drop=True)"
   ]
  },
  {
   "cell_type": "code",
   "execution_count": 114,
   "metadata": {},
   "outputs": [
    {
     "name": "stdout",
     "output_type": "stream",
     "text": [
      "id                        question_questions                                              \n",
      "0wcaegyyobblhhvfzwyibn0a  Please indicate your company's main area of business                17\n",
      "                          Which of the following best describes your job function?            10\n",
      "                          Reason for Attending the Event                                       5\n",
      "                          What role do you play in the purchasing decision making process?     4\n",
      "1o5g2tlsho4gxzk3usr06z1c  Reason for Attending the Event                                       5\n",
      "                                                                                              ..\n",
      "yzc27c0f8w2ortjytg54wtmh  What role do you play in the purchasing decision making process?     4\n",
      "zcf116neh1ny42asu75xy0h2  Please indicate your company's main area of business                17\n",
      "                          Which of the following best describes your job function?            10\n",
      "                          Reason for Attending the Event                                       5\n",
      "                          What role do you play in the purchasing decision making process?     4\n",
      "Name: question_questions, Length: 391, dtype: int64\n"
     ]
    }
   ],
   "source": [
    "print(visitors_final_df.groupby('id')['question_questions'].value_counts())"
   ]
  },
  {
   "cell_type": "code",
   "execution_count": null,
   "metadata": {},
   "outputs": [],
   "source": []
  }
 ],
 "metadata": {
  "kernelspec": {
   "display_name": "base",
   "language": "python",
   "name": "python3"
  },
  "language_info": {
   "codemirror_mode": {
    "name": "ipython",
    "version": 3
   },
   "file_extension": ".py",
   "mimetype": "text/x-python",
   "name": "python",
   "nbconvert_exporter": "python",
   "pygments_lexer": "ipython3",
   "version": "3.9.13"
  }
 },
 "nbformat": 4,
 "nbformat_minor": 2
}
