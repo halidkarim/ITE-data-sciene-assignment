{
 "cells": [
  {
   "cell_type": "code",
   "execution_count": 0,
   "metadata": {
    "application/vnd.databricks.v1+cell": {
     "cellMetadata": {
      "byteLimit": 2048000,
      "rowLimit": 10000
     },
     "inputWidgets": {},
     "nuid": "0d23f775-67e1-446e-8631-ebdb344f84b0",
     "showTitle": false,
     "tableResultSettingsMap": {},
     "title": ""
    }
   },
   "outputs": [
    {
     "output_type": "display_data",
     "data": {
      "application/vnd.databricks.v1+bamboolib_hint": "{\"pd.DataFrames\": [], \"version\": \"0.0.1\"}",
      "text/plain": []
     },
     "metadata": {},
     "output_type": "display_data"
    }
   ],
   "source": [
    "import numpy as np\n",
    "import pandas as pd\n",
    "import json\n",
    "import os"
   ]
  },
  {
   "cell_type": "code",
   "execution_count": 0,
   "metadata": {
    "application/vnd.databricks.v1+cell": {
     "cellMetadata": {},
     "inputWidgets": {},
     "nuid": "a0e5af28-2281-43c7-91d6-94c9cf44ddf5",
     "showTitle": false,
     "tableResultSettingsMap": {},
     "title": ""
    }
   },
   "outputs": [
    {
     "output_type": "execute_result",
     "data": {
      "text/plain": [
       "'c:\\\\Users\\\\HALID\\\\Documents\\\\ITE Assignment\\\\ITE-data-sciene-assignment\\\\code'"
      ]
     },
     "execution_count": 13,
     "metadata": {},
     "output_type": "execute_result"
    }
   ],
   "source": [
    "os.getcwd()"
   ]
  },
  {
   "cell_type": "markdown",
   "metadata": {
    "application/vnd.databricks.v1+cell": {
     "cellMetadata": {},
     "inputWidgets": {},
     "nuid": "ad0c79bc-703a-4afd-bf15-df065b59861e",
     "showTitle": false,
     "tableResultSettingsMap": {},
     "title": ""
    }
   },
   "source": [
    "### Visitor profile analysis "
   ]
  },
  {
   "cell_type": "code",
   "execution_count": 0,
   "metadata": {
    "application/vnd.databricks.v1+cell": {
     "cellMetadata": {
      "byteLimit": 2048000,
      "rowLimit": 10000
     },
     "inputWidgets": {},
     "nuid": "58e2f3cd-8384-4aae-a935-8636161c3c54",
     "showTitle": false,
     "tableResultSettingsMap": {},
     "title": ""
    }
   },
   "outputs": [],
   "source": [
    "def process_visitor_data(visitors: pd.DataFrame, visitors_questions: pd.DataFrame, visitors_answers: pd.DataFrame) -> pd.DataFrame:\n",
    "    \"\"\"Processes visitor data and returns the final pivot table for ML processing.\"\"\"\n",
    "    visitors['data'] = visitors['data'].apply(json.loads)\n",
    "    visitors_exploded = visitors.explode('data').reset_index(drop=True)\n",
    "    visitors_normalized = pd.json_normalize(visitors_exploded['data'])\n",
    "    visitors_final = visitors_exploded.drop(columns='data').join(visitors_normalized)\n",
    "    \n",
    "    visitors_final['Country'] = visitors_final.apply(lambda x: x['answerValue'] if x['answerTypeId'] == 'Country' else None, axis=1)\n",
    "    visitors_final['Region'] = visitors_final.apply(lambda x: x['answerValue'] if x['answerTypeId'] == 'Region' else None, axis=1)\n",
    "    visitors_final['Country'] = visitors_final.groupby('id')['Country'].transform(lambda x: x.ffill().bfill())\n",
    "    visitors_final['Region'] = visitors_final.groupby('id')['Region'].transform(lambda x: x.ffill().bfill())\n",
    "    \n",
    "    visitors_final_df = visitors_final.merge(\n",
    "        visitors_questions.add_suffix(\"_questions\"),\n",
    "        left_on='questionId',\n",
    "        right_on=\"id_questions\",\n",
    "        how='left'\n",
    "    ).merge(\n",
    "        visitors_answers.add_suffix(\"_answers\"),\n",
    "        left_on='answerId',\n",
    "        right_on=\"id_answers\",\n",
    "        how='inner'\n",
    "    ).drop(\n",
    "        ['questionId_answers', 'id_answers', 'stepId_questions', 'questionId', \n",
    "         'id_questions', 'questionTypeId_questions', 'stepId_questions'],\n",
    "        axis=1\n",
    "    )\n",
    "    \n",
    "    visitors_final_base = visitors_final_df[['email', 'gender', 'id', 'Country', 'Region']].drop_duplicates().reset_index(drop=True)\n",
    "    \n",
    "    visitor_pivot = visitors_final_df.pivot_table(\n",
    "        index=['id'],\n",
    "        columns='question_questions',\n",
    "        values='answer_answers',\n",
    "        aggfunc=lambda x: ','.join(x)\n",
    "    ).reset_index().merge(\n",
    "        visitors_final_base,\n",
    "        left_on='id',\n",
    "        right_on='id',\n",
    "        how='left'\n",
    "    )\n",
    "    \n",
    "    selected_columns = ['id', 'email', 'gender', 'Country', 'Region',\n",
    "                        \"Please indicate your company's main area of business\",\n",
    "                        \"Reason for Attending the Event\",\n",
    "                        \"What is your company's annual purchasing budget?\",\n",
    "                        \"What role do you play in the purchasing decision making process?\",\n",
    "                        \"Which of the following best describes your job function?\"]\n",
    "    visitor_pivot = visitor_pivot[selected_columns]\n",
    "    \n",
    "    visitor_answer_count = visitors_final_df.groupby(['id', 'question_questions'])['answer_answers'].count().unstack(fill_value=0).reset_index()\n",
    "    \n",
    "    return visitor_pivot,visitor_answer_count,visitors_final_df\n"
   ]
  },
  {
   "cell_type": "markdown",
   "metadata": {
    "application/vnd.databricks.v1+cell": {
     "cellMetadata": {},
     "inputWidgets": {},
     "nuid": "c155d06c-363d-4ee1-98c8-57d446915817",
     "showTitle": false,
     "tableResultSettingsMap": {},
     "title": ""
    }
   },
   "source": [
    "### Exhibitor"
   ]
  },
  {
   "cell_type": "code",
   "execution_count": 0,
   "metadata": {
    "application/vnd.databricks.v1+cell": {
     "cellMetadata": {
      "byteLimit": 2048000,
      "rowLimit": 10000
     },
     "inputWidgets": {},
     "nuid": "c74bb427-3a77-4966-910a-e6ba7c3dcf90",
     "showTitle": false,
     "tableResultSettingsMap": {},
     "title": ""
    }
   },
   "outputs": [],
   "source": [
    "import pandas as pd\n",
    "\n",
    "def preprocess_exhibitor_categories(exhibitors: pd.DataFrame, exhibitor_categories: pd.DataFrame) -> pd.DataFrame:\n",
    "    \"\"\"\n",
    "    Processes exhibitor data by splitting main categories, exploding them,\n",
    "    converting to integer, merging with category names, and aggregating.\n",
    "    \n",
    "    Parameters:\n",
    "    exhibitors (pd.DataFrame): DataFrame containing exhibitor data with 'MainCategories'.\n",
    "    exhibitor_categories (pd.DataFrame): DataFrame mapping category IDs to category names.\n",
    "    \n",
    "    Returns:\n",
    "    pd.DataFrame: Aggregated DataFrame with concatenated category names per exhibitor.\n",
    "    \"\"\"\n",
    "    # Split and explode the 'MainCategories' column\n",
    "    exhibitors_splitted = exhibitors.assign(\n",
    "        MainCategories=exhibitors['MainCategories'].str.split('|')\n",
    "    ).explode('MainCategories')\n",
    "    \n",
    "    # Convert 'MainCategories' to integer\n",
    "    exhibitors_splitted['MainCategories'] = exhibitors_splitted['MainCategories'].astype(int)\n",
    "    \n",
    "    # Merge with category names\n",
    "    exhibitors_final = exhibitors_splitted.merge(\n",
    "        exhibitor_categories,\n",
    "        left_on='MainCategories',\n",
    "        right_on='categoryId',\n",
    "        how='left'\n",
    "    ).drop(['MainCategories', 'categoryId'], axis=1)\n",
    "    \n",
    "    # Aggregate category names per exhibitor\n",
    "    exhibitor_agg = exhibitors_final.groupby(['exhibitorid', 'Name']).agg(\n",
    "        {'categoryName': lambda x: ','.join(x)}\n",
    "    ).reset_index()\n",
    "    exhibitor_agg['categoryName'] = exhibitor_agg['categoryName'].str.replace(r'[0-9.]', '', regex=True)\n",
    "    \n",
    "    return exhibitor_agg,exhibitors_final\n"
   ]
  }
 ],
 "metadata": {
  "application/vnd.databricks.v1+notebook": {
   "computePreferences": null,
   "dashboards": [],
   "environmentMetadata": null,
   "inputWidgetPreferences": null,
   "language": "python",
   "notebookMetadata": {
    "pythonIndentUnit": 2
   },
   "notebookName": "data_preprocessing",
   "widgets": {}
  },
  "kernelspec": {
   "display_name": "base",
   "language": "python",
   "name": "python3"
  },
  "language_info": {
   "name": "python"
  }
 },
 "nbformat": 4,
 "nbformat_minor": 0
}