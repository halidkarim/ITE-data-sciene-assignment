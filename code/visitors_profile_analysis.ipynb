{
 "cells": [
  {
   "cell_type": "code",
   "execution_count": 0,
   "metadata": {
    "application/vnd.databricks.v1+cell": {
     "cellMetadata": {
      "byteLimit": 2048000,
      "rowLimit": 10000
     },
     "inputWidgets": {},
     "nuid": "44980f40-ca16-4c7e-90a1-ec9c69c4905b",
     "showTitle": false,
     "tableResultSettingsMap": {},
     "title": ""
    },
    "jupyter": {
     "outputs_hidden": true
    }
   },
   "outputs": [
    {
     "output_type": "execute_result",
     "data": {
      "text/plain": [
       "'/Workspace/Users/hkarim@diez.ae/EDA workout/test workout'"
      ]
     },
     "execution_count": 2,
     "metadata": {},
     "output_type": "execute_result"
    },
    {
     "output_type": "display_data",
     "data": {
      "text/markdown": [
       "### Visitor profile analysis "
      ]
     },
     "metadata": {},
     "output_type": "display_data"
    },
    {
     "output_type": "display_data",
     "data": {
      "text/markdown": [
       "### Exhibitor"
      ]
     },
     "metadata": {},
     "output_type": "display_data"
    }
   ],
   "source": [
    "%run \"./data_preprocessing\""
   ]
  },
  {
   "cell_type": "code",
   "execution_count": 0,
   "metadata": {
    "application/vnd.databricks.v1+cell": {
     "cellMetadata": {
      "byteLimit": 2048000,
      "rowLimit": 10000
     },
     "inputWidgets": {},
     "nuid": "e2b3e797-c9a4-4cbb-b319-262d9f9616b0",
     "showTitle": false,
     "tableResultSettingsMap": {},
     "title": ""
    }
   },
   "outputs": [],
   "source": [
    "import pandas as pd\n",
    "from sklearn.preprocessing import OneHotEncoder\n",
    "from sklearn.feature_extraction.text import TfidfVectorizer\n",
    "from sklearn.cluster import KMeans\n",
    "from sklearn.pipeline import FeatureUnion\n",
    "from scipy.sparse import hstack\n",
    "import matplotlib.pyplot as plt"
   ]
  },
  {
   "cell_type": "code",
   "execution_count": 0,
   "metadata": {
    "application/vnd.databricks.v1+cell": {
     "cellMetadata": {
      "byteLimit": 2048000,
      "rowLimit": 10000
     },
     "inputWidgets": {},
     "nuid": "50aef1ae-e949-4530-ab50-8eac5d8ed262",
     "showTitle": false,
     "tableResultSettingsMap": {},
     "title": ""
    }
   },
   "outputs": [],
   "source": [
    "visitors=pd.read_csv(r\".\\source\\visitors.csv\")\n",
    "visitors_questions=pd.read_csv(r\".\\source\\visitors_questions.csv\")\n",
    "visitors_answers=pd.read_csv(r\".\\source\\visitors_answers.csv\")\n"
   ]
  },
  {
   "cell_type": "code",
   "execution_count": 0,
   "metadata": {
    "application/vnd.databricks.v1+cell": {
     "cellMetadata": {
      "byteLimit": 2048000,
      "rowLimit": 10000
     },
     "inputWidgets": {},
     "nuid": "d0fab3d4-a7aa-467f-ab08-5fd9338612b9",
     "showTitle": false,
     "tableResultSettingsMap": {},
     "title": ""
    }
   },
   "outputs": [],
   "source": [
    "basedata,agg,agg2=process_visitor_data(visitors,visitors_questions,visitors_answers)"
   ]
  },
  {
   "cell_type": "markdown",
   "metadata": {
    "application/vnd.databricks.v1+cell": {
     "cellMetadata": {},
     "inputWidgets": {},
     "nuid": "96083518-2bfd-432a-81c0-eea40355379a",
     "showTitle": false,
     "tableResultSettingsMap": {},
     "title": ""
    }
   },
   "source": [
    "### EDA"
   ]
  },
  {
   "cell_type": "code",
   "execution_count": 0,
   "metadata": {
    "application/vnd.databricks.v1+cell": {
     "cellMetadata": {
      "byteLimit": 2048000,
      "rowLimit": 10000
     },
     "inputWidgets": {},
     "nuid": "242933ac-f854-4590-9538-d0e77459c092",
     "showTitle": false,
     "tableResultSettingsMap": {},
     "title": ""
    }
   },
   "outputs": [
    {
     "output_type": "execute_result",
     "data": {
      "text/plain": [
       "gender\n",
       "M    55\n",
       "F    45\n",
       "Name: count, dtype: int64"
      ]
     },
     "execution_count": 37,
     "metadata": {},
     "output_type": "execute_result"
    }
   ],
   "source": [
    "basedata['gender'].value_counts()"
   ]
  },
  {
   "cell_type": "code",
   "execution_count": 0,
   "metadata": {
    "application/vnd.databricks.v1+cell": {
     "cellMetadata": {
      "byteLimit": 2048000,
      "rowLimit": 10000
     },
     "inputWidgets": {},
     "nuid": "0238fec3-e225-4128-a500-9e8b83041de4",
     "showTitle": false,
     "tableResultSettingsMap": {},
     "title": ""
    }
   },
   "outputs": [
    {
     "output_type": "execute_result",
     "data": {
      "text/plain": [
       "question_questions                                                answer_answers                  \n",
       "Please indicate your company's main area of business              Travel Agent                        54\n",
       "                                                                  Tour Operator                       19\n",
       "                                                                  Event management                     9\n",
       "                                                                  IT solutions for travel industry     3\n",
       "                                                                  Accommodation Provider               2\n",
       "Reason for Attending the Event                                    To source products and services     35\n",
       "                                                                  To obtain general information       24\n",
       "                                                                  To promote products and services    20\n",
       "                                                                  Personal interest                   13\n",
       "                                                                  Educational purposes                 8\n",
       "What is your company's annual purchasing budget?                  Up to 1 million rubles              18\n",
       "                                                                  1 - 5 million rubles                 6\n",
       "                                                                  5 - 10 million rubles                6\n",
       "What role do you play in the purchasing decision making process?  No influence                        30\n",
       "                                                                  Advisory role                       27\n",
       "                                                                  Joint responsibility                18\n",
       "                                                                  Sole responsibility                 12\n",
       "Which of the following best describes your job function?          Visa support                        16\n",
       "                                                                  Sales                               15\n",
       "                                                                  Media                                8\n",
       "                                                                  Formation of tourist products        6\n",
       "                                                                  Guided tour services                 6\n",
       "                                                                  Marketing                            6\n",
       "Name: count, dtype: int64"
      ]
     },
     "execution_count": 42,
     "metadata": {},
     "output_type": "execute_result"
    }
   ],
   "source": [
    "agg2.groupby('question_questions')['answer_answers'].value_counts()"
   ]
  },
  {
   "cell_type": "markdown",
   "metadata": {
    "application/vnd.databricks.v1+cell": {
     "cellMetadata": {},
     "inputWidgets": {},
     "nuid": "9bee3790-3dc5-4c99-8c62-135aac365081",
     "showTitle": false,
     "tableResultSettingsMap": {},
     "title": ""
    }
   },
   "source": [
    "### Clustering analysis "
   ]
  },
  {
   "cell_type": "code",
   "execution_count": 0,
   "metadata": {
    "application/vnd.databricks.v1+cell": {
     "cellMetadata": {
      "byteLimit": 2048000,
      "rowLimit": 10000
     },
     "inputWidgets": {},
     "nuid": "b36ef502-382a-452b-ae68-044e85c261ba",
     "showTitle": false,
     "tableResultSettingsMap": {},
     "title": ""
    }
   },
   "outputs": [],
   "source": [
    "basedata_ml=basedata[['id','gender','Country','Region',\"Please indicate your company's main area of business\",\"Reason for Attending the Event\",\"What is your company's annual purchasing budget?\",\"What role do you play in the purchasing decision making process?\",\t\"Which of the following best describes your job function?\"]]"
   ]
  },
  {
   "cell_type": "code",
   "execution_count": 0,
   "metadata": {
    "application/vnd.databricks.v1+cell": {
     "cellMetadata": {
      "byteLimit": 2048000,
      "rowLimit": 10000
     },
     "inputWidgets": {},
     "nuid": "c85f4b03-2f0e-4c37-b680-d2c67d142599",
     "showTitle": false,
     "tableResultSettingsMap": {},
     "title": ""
    }
   },
   "outputs": [
    {
     "output_type": "stream",
     "name": "stderr",
     "output_type": "stream",
     "text": [
      "/root/.ipykernel/3470/command-4720173271374049-3266983355:1: SettingWithCopyWarning: \nA value is trying to be set on a copy of a slice from a DataFrame\n\nSee the caveats in the documentation: https://pandas.pydata.org/pandas-docs/stable/user_guide/indexing.html#returning-a-view-versus-a-copy\n  basedata_ml.fillna(\"\",inplace=True)\n"
     ]
    }
   ],
   "source": [
    "basedata_ml.fillna(\"\",inplace=True)"
   ]
  },
  {
   "cell_type": "code",
   "execution_count": 0,
   "metadata": {
    "application/vnd.databricks.v1+cell": {
     "cellMetadata": {
      "byteLimit": 2048000,
      "rowLimit": 10000
     },
     "inputWidgets": {},
     "nuid": "f85bea63-fbea-4ee6-b13a-836feca324e1",
     "showTitle": false,
     "tableResultSettingsMap": {},
     "title": ""
    }
   },
   "outputs": [],
   "source": [
    "basedata_ml['text_combined']=basedata_ml[\"Please indicate your company's main area of business\" ] + basedata_ml[\"Reason for Attending the Event\"] + basedata_ml[\"What is your company's annual purchasing budget?\"]+ basedata_ml[\"What role do you play in the purchasing decision making process?\"] +basedata_ml[\"Which of the following best describes your job function?\"]"
   ]
  },
  {
   "cell_type": "code",
   "execution_count": 0,
   "metadata": {
    "application/vnd.databricks.v1+cell": {
     "cellMetadata": {
      "byteLimit": 2048000,
      "rowLimit": 10000
     },
     "inputWidgets": {},
     "nuid": "93d1b1c9-84c3-4dc7-bc3e-da8bb0b7ab81",
     "showTitle": false,
     "tableResultSettingsMap": {},
     "title": ""
    }
   },
   "outputs": [],
   "source": [
    "# One-Hot Encode categorical columns\n",
    "categorical_cols = ['gender', 'Country','Region']\n",
    "ohe = OneHotEncoder(sparse=True, handle_unknown='ignore')\n",
    "categorical_features = ohe.fit_transform(basedata_ml[categorical_cols])"
   ]
  },
  {
   "cell_type": "code",
   "execution_count": 0,
   "metadata": {
    "application/vnd.databricks.v1+cell": {
     "cellMetadata": {
      "byteLimit": 2048000,
      "rowLimit": 10000
     },
     "inputWidgets": {},
     "nuid": "5c6a9966-116e-42ea-bdad-deba7a2d0cfd",
     "showTitle": false,
     "tableResultSettingsMap": {},
     "title": ""
    }
   },
   "outputs": [],
   "source": [
    "# Convert text data into TF-IDF features\n",
    "vectorizer = TfidfVectorizer(stop_words='english', max_features=100)\n",
    "text_features = vectorizer.fit_transform(basedata_ml['text_combined'])"
   ]
  },
  {
   "cell_type": "code",
   "execution_count": 0,
   "metadata": {
    "application/vnd.databricks.v1+cell": {
     "cellMetadata": {
      "byteLimit": 2048000,
      "rowLimit": 10000
     },
     "inputWidgets": {},
     "nuid": "5a42a22f-48cf-4be3-85c3-0e878da28d79",
     "showTitle": false,
     "tableResultSettingsMap": {},
     "title": ""
    }
   },
   "outputs": [],
   "source": [
    "# Combine both categorical and text features\n",
    "final_features = hstack([categorical_features, text_features])"
   ]
  },
  {
   "cell_type": "code",
   "execution_count": 0,
   "metadata": {
    "application/vnd.databricks.v1+cell": {
     "cellMetadata": {
      "byteLimit": 2048000,
      "rowLimit": 10000
     },
     "inputWidgets": {},
     "nuid": "1da0daaa-fb1c-48d9-8d0b-883c522cb459",
     "showTitle": false,
     "tableResultSettingsMap": {},
     "title": ""
    }
   },
   "outputs": [
    {
     "output_type": "stream",
     "name": "stderr",
     "output_type": "stream",
     "text": [
      "Exception ignored on calling ctypes callback function: <function _ThreadpoolInfo._find_modules_with_dl_iterate_phdr.<locals>.match_module_callback at 0x7f0c1f01ad40>\nTraceback (most recent call last):\n  File \"/databricks/python/lib/python3.10/site-packages/threadpoolctl.py\", line 400, in match_module_callback\n    self._make_module_from_path(filepath)\n  File \"/databricks/python/lib/python3.10/site-packages/threadpoolctl.py\", line 515, in _make_module_from_path\n    module = module_class(filepath, prefix, user_api, internal_api)\n  File \"/databricks/python/lib/python3.10/site-packages/threadpoolctl.py\", line 606, in __init__\n    self.version = self.get_version()\n  File \"/databricks/python/lib/python3.10/site-packages/threadpoolctl.py\", line 646, in get_version\n    config = get_config().split()\nAttributeError: 'NoneType' object has no attribute 'split'\nException ignored on calling ctypes callback function: <function _ThreadpoolInfo._find_modules_with_dl_iterate_phdr.<locals>.match_module_callback at 0x7f0c1f4a3eb0>\nTraceback (most recent call last):\n  File \"/databricks/python/lib/python3.10/site-packages/threadpoolctl.py\", line 400, in match_module_callback\n    self._make_module_from_path(filepath)\n  File \"/databricks/python/lib/python3.10/site-packages/threadpoolctl.py\", line 515, in _make_module_from_path\n    module = module_class(filepath, prefix, user_api, internal_api)\n  File \"/databricks/python/lib/python3.10/site-packages/threadpoolctl.py\", line 606, in __init__\n    self.version = self.get_version()\n  File \"/databricks/python/lib/python3.10/site-packages/threadpoolctl.py\", line 646, in get_version\n    config = get_config().split()\nAttributeError: 'NoneType' object has no attribute 'split'\nException ignored on calling ctypes callback function: <function _ThreadpoolInfo._find_modules_with_dl_iterate_phdr.<locals>.match_module_callback at 0x7f0c1f4a3eb0>\nTraceback (most recent call last):\n  File \"/databricks/python/lib/python3.10/site-packages/threadpoolctl.py\", line 400, in match_module_callback\n    self._make_module_from_path(filepath)\n  File \"/databricks/python/lib/python3.10/site-packages/threadpoolctl.py\", line 515, in _make_module_from_path\n    module = module_class(filepath, prefix, user_api, internal_api)\n  File \"/databricks/python/lib/python3.10/site-packages/threadpoolctl.py\", line 606, in __init__\n    self.version = self.get_version()\n  File \"/databricks/python/lib/python3.10/site-packages/threadpoolctl.py\", line 646, in get_version\n    config = get_config().split()\nAttributeError: 'NoneType' object has no attribute 'split'\nException ignored on calling ctypes callback function: <function _ThreadpoolInfo._find_modules_with_dl_iterate_phdr.<locals>.match_module_callback at 0x7f0c1f4a3eb0>\nTraceback (most recent call last):\n  File \"/databricks/python/lib/python3.10/site-packages/threadpoolctl.py\", line 400, in match_module_callback\n    self._make_module_from_path(filepath)\n  File \"/databricks/python/lib/python3.10/site-packages/threadpoolctl.py\", line 515, in _make_module_from_path\n    module = module_class(filepath, prefix, user_api, internal_api)\n  File \"/databricks/python/lib/python3.10/site-packages/threadpoolctl.py\", line 606, in __init__\n    self.version = self.get_version()\n  File \"/databricks/python/lib/python3.10/site-packages/threadpoolctl.py\", line 646, in get_version\n    config = get_config().split()\nAttributeError: 'NoneType' object has no attribute 'split'\nException ignored on calling ctypes callback function: <function _ThreadpoolInfo._find_modules_with_dl_iterate_phdr.<locals>.match_module_callback at 0x7f0c1f4a3eb0>\nTraceback (most recent call last):\n  File \"/databricks/python/lib/python3.10/site-packages/threadpoolctl.py\", line 400, in match_module_callback\n    self._make_module_from_path(filepath)\n  File \"/databricks/python/lib/python3.10/site-packages/threadpoolctl.py\", line 515, in _make_module_from_path\n    module = module_class(filepath, prefix, user_api, internal_api)\n  File \"/databricks/python/lib/python3.10/site-packages/threadpoolctl.py\", line 606, in __init__\n    self.version = self.get_version()\n  File \"/databricks/python/lib/python3.10/site-packages/threadpoolctl.py\", line 646, in get_version\n    config = get_config().split()\nAttributeError: 'NoneType' object has no attribute 'split'\nException ignored on calling ctypes callback function: <function _ThreadpoolInfo._find_modules_with_dl_iterate_phdr.<locals>.match_module_callback at 0x7f0c1f4a3eb0>\nTraceback (most recent call last):\n  File \"/databricks/python/lib/python3.10/site-packages/threadpoolctl.py\", line 400, in match_module_callback\n    self._make_module_from_path(filepath)\n  File \"/databricks/python/lib/python3.10/site-packages/threadpoolctl.py\", line 515, in _make_module_from_path\n    module = module_class(filepath, prefix, user_api, internal_api)\n  File \"/databricks/python/lib/python3.10/site-packages/threadpoolctl.py\", line 606, in __init__\n    self.version = self.get_version()\n  File \"/databricks/python/lib/python3.10/site-packages/threadpoolctl.py\", line 646, in get_version\n    config = get_config().split()\nAttributeError: 'NoneType' object has no attribute 'split'\nException ignored on calling ctypes callback function: <function _ThreadpoolInfo._find_modules_with_dl_iterate_phdr.<locals>.match_module_callback at 0x7f0c1f4a3eb0>\nTraceback (most recent call last):\n  File \"/databricks/python/lib/python3.10/site-packages/threadpoolctl.py\", line 400, in match_module_callback\n    self._make_module_from_path(filepath)\n  File \"/databricks/python/lib/python3.10/site-packages/threadpoolctl.py\", line 515, in _make_module_from_path\n    module = module_class(filepath, prefix, user_api, internal_api)\n  File \"/databricks/python/lib/python3.10/site-packages/threadpoolctl.py\", line 606, in __init__\n    self.version = self.get_version()\n  File \"/databricks/python/lib/python3.10/site-packages/threadpoolctl.py\", line 646, in get_version\n    config = get_config().split()\nAttributeError: 'NoneType' object has no attribute 'split'\nException ignored on calling ctypes callback function: <function _ThreadpoolInfo._find_modules_with_dl_iterate_phdr.<locals>.match_module_callback at 0x7f0c1f4a3eb0>\nTraceback (most recent call last):\n  File \"/databricks/python/lib/python3.10/site-packages/threadpoolctl.py\", line 400, in match_module_callback\n    self._make_module_from_path(filepath)\n  File \"/databricks/python/lib/python3.10/site-packages/threadpoolctl.py\", line 515, in _make_module_from_path\n    module = module_class(filepath, prefix, user_api, internal_api)\n  File \"/databricks/python/lib/python3.10/site-packages/threadpoolctl.py\", line 606, in __init__\n    self.version = self.get_version()\n  File \"/databricks/python/lib/python3.10/site-packages/threadpoolctl.py\", line 646, in get_version\n    config = get_config().split()\nAttributeError: 'NoneType' object has no attribute 'split'\nException ignored on calling ctypes callback function: <function _ThreadpoolInfo._find_modules_with_dl_iterate_phdr.<locals>.match_module_callback at 0x7f0b0615cf70>\nTraceback (most recent call last):\n  File \"/databricks/python/lib/python3.10/site-packages/threadpoolctl.py\", line 400, in match_module_callback\n    self._make_module_from_path(filepath)\n  File \"/databricks/python/lib/python3.10/site-packages/threadpoolctl.py\", line 515, in _make_module_from_path\n    module = module_class(filepath, prefix, user_api, internal_api)\n  File \"/databricks/python/lib/python3.10/site-packages/threadpoolctl.py\", line 606, in __init__\n    self.version = self.get_version()\n  File \"/databricks/python/lib/python3.10/site-packages/threadpoolctl.py\", line 646, in get_version\n    config = get_config().split()\nAttributeError: 'NoneType' object has no attribute 'split'\nException ignored on calling ctypes callback function: <function _ThreadpoolInfo._find_modules_with_dl_iterate_phdr.<locals>.match_module_callback at 0x7f0b0615cf70>\nTraceback (most recent call last):\n  File \"/databricks/python/lib/python3.10/site-packages/threadpoolctl.py\", line 400, in match_module_callback\n    self._make_module_from_path(filepath)\n  File \"/databricks/python/lib/python3.10/site-packages/threadpoolctl.py\", line 515, in _make_module_from_path\n    module = module_class(filepath, prefix, user_api, internal_api)\n  File \"/databricks/python/lib/python3.10/site-packages/threadpoolctl.py\", line 606, in __init__\n    self.version = self.get_version()\n  File \"/databricks/python/lib/python3.10/site-packages/threadpoolctl.py\", line 646, in get_version\n    config = get_config().split()\nAttributeError: 'NoneType' object has no attribute 'split'\n"
     ]
    },
    {
     "output_type": "display_data",
     "data": {
      "image/png": "[encoded data removed]",
      "text/plain": [
       "<Figure size 800x500 with 1 Axes>"
      ]
     },
     "metadata": {},
     "output_type": "display_data"
    }
   ],
   "source": [
    "wcss = []\n",
    "k_values = range(1, 10)\n",
    "for k in k_values:\n",
    "    kmeans = KMeans(n_clusters=k, random_state=42, n_init=10)\n",
    "    kmeans.fit(final_features)\n",
    "    wcss.append(kmeans.inertia_)\n",
    "\n",
    "# Plot the elbow curve\n",
    "plt.figure(figsize=(8, 5))\n",
    "plt.plot(k_values, wcss, marker='o', linestyle='--')\n",
    "plt.xlabel('Number of Clusters')\n",
    "plt.ylabel('WCSS')\n",
    "plt.title('Elbow Method for Optimal Clusters')\n",
    "plt.show()"
   ]
  },
  {
   "cell_type": "code",
   "execution_count": 0,
   "metadata": {
    "application/vnd.databricks.v1+cell": {
     "cellMetadata": {
      "byteLimit": 2048000,
      "rowLimit": 10000
     },
     "inputWidgets": {},
     "nuid": "0ac5b5a7-4123-4fea-973f-a0b02fb64216",
     "showTitle": false,
     "tableResultSettingsMap": {},
     "title": ""
    }
   },
   "outputs": [],
   "source": [
    "# Apply K-Means Clustering\n",
    "num_clusters = 3 \n",
    "kmeans = KMeans(n_clusters=num_clusters, random_state=42, n_init=10)"
   ]
  },
  {
   "cell_type": "code",
   "execution_count": 0,
   "metadata": {
    "application/vnd.databricks.v1+cell": {
     "cellMetadata": {
      "byteLimit": 2048000,
      "rowLimit": 10000
     },
     "inputWidgets": {},
     "nuid": "cb2a0476-54d7-417c-8cfb-df8824afa3c0",
     "showTitle": false,
     "tableResultSettingsMap": {},
     "title": ""
    }
   },
   "outputs": [],
   "source": [
    "basedata_ml['cluster'] = kmeans.fit_predict(final_features)"
   ]
  },
  {
   "cell_type": "code",
   "execution_count": 0,
   "metadata": {
    "application/vnd.databricks.v1+cell": {
     "cellMetadata": {
      "byteLimit": 2048000,
      "rowLimit": 10000
     },
     "inputWidgets": {},
     "nuid": "b7780477-b564-4614-b5a1-4deb0064298c",
     "showTitle": false,
     "tableResultSettingsMap": {},
     "title": ""
    }
   },
   "outputs": [
    {
     "output_type": "execute_result",
     "data": {
      "text/plain": [
       "cluster\n",
       "0    44\n",
       "1    34\n",
       "2    22\n",
       "Name: count, dtype: int64"
      ]
     },
     "execution_count": 28,
     "metadata": {},
     "output_type": "execute_result"
    }
   ],
   "source": [
    "basedata_ml['cluster'].value_counts()"
   ]
  },
  {
   "cell_type": "code",
   "execution_count": 0,
   "metadata": {
    "application/vnd.databricks.v1+cell": {
     "cellMetadata": {
      "byteLimit": 2048000,
      "rowLimit": 10000
     },
     "inputWidgets": {},
     "nuid": "c8b5bb6d-772c-4b9b-823a-8f3c684c5989",
     "showTitle": false,
     "tableResultSettingsMap": {},
     "title": ""
    }
   },
   "outputs": [
    {
     "output_type": "execute_result",
     "data": {
      "text/html": [
       "<div>\n",
       "<style scoped>\n",
       "    .dataframe tbody tr th:only-of-type {\n",
       "        vertical-align: middle;\n",
       "    }\n",
       "\n",
       "    .dataframe tbody tr th {\n",
       "        vertical-align: top;\n",
       "    }\n",
       "\n",
       "    .dataframe thead th {\n",
       "        text-align: right;\n",
       "    }\n",
       "</style>\n",
       "<table border=\"1\" class=\"dataframe\">\n",
       "  <thead>\n",
       "    <tr style=\"text-align: right;\">\n",
       "      <th></th>\n",
       "      <th>cluster</th>\n",
       "      <th>gender</th>\n",
       "      <th>Country</th>\n",
       "      <th>Region</th>\n",
       "      <th>Please indicate your company's main area of business</th>\n",
       "      <th>Reason for Attending the Event</th>\n",
       "      <th>What is your company's annual purchasing budget?</th>\n",
       "      <th>What role do you play in the purchasing decision making process?</th>\n",
       "      <th>Which of the following best describes your job function?</th>\n",
       "    </tr>\n",
       "  </thead>\n",
       "  <tbody>\n",
       "    <tr>\n",
       "      <th>0</th>\n",
       "      <td>0</td>\n",
       "      <td>M</td>\n",
       "      <td>Russia</td>\n",
       "      <td>Moscow</td>\n",
       "      <td>Travel Agent</td>\n",
       "      <td>To source products and services</td>\n",
       "      <td></td>\n",
       "      <td>Advisory role</td>\n",
       "      <td>Visa support</td>\n",
       "    </tr>\n",
       "    <tr>\n",
       "      <th>1</th>\n",
       "      <td>1</td>\n",
       "      <td>F</td>\n",
       "      <td>Russia</td>\n",
       "      <td>Moscow</td>\n",
       "      <td>Travel Agent</td>\n",
       "      <td>To obtain general information</td>\n",
       "      <td></td>\n",
       "      <td>No influence</td>\n",
       "      <td></td>\n",
       "    </tr>\n",
       "    <tr>\n",
       "      <th>2</th>\n",
       "      <td>2</td>\n",
       "      <td>F</td>\n",
       "      <td>North Macedonia</td>\n",
       "      <td></td>\n",
       "      <td></td>\n",
       "      <td>Personal interest</td>\n",
       "      <td></td>\n",
       "      <td></td>\n",
       "      <td></td>\n",
       "    </tr>\n",
       "  </tbody>\n",
       "</table>\n",
       "</div>"
      ],
      "text/plain": [
       "   cluster  ... Which of the following best describes your job function?\n",
       "0        0  ...                                       Visa support      \n",
       "1        1  ...                                                         \n",
       "2        2  ...                                                         \n",
       "\n",
       "[3 rows x 9 columns]"
      ]
     },
     "execution_count": 34,
     "metadata": {},
     "output_type": "execute_result"
    }
   ],
   "source": [
    "basedata_ml.groupby('cluster').agg({\n",
    "  \"gender\":lambda x:x.value_counts().idxmax(),\n",
    "  'Country':lambda x:x.value_counts().idxmax(),\n",
    "  \"Region\":lambda x:x.value_counts().idxmax(),\n",
    "  \"Please indicate your company's main area of business\":lambda x:x.value_counts().idxmax(),\n",
    "  \"Reason for Attending the Event\":lambda x:x.value_counts().idxmax(),\n",
    "  \"What is your company's annual purchasing budget?\":lambda x:x.value_counts().idxmax(),\n",
    "  \"What role do you play in the purchasing decision making process?\":lambda x:x.value_counts().idxmax(),\n",
    "  \"Which of the following best describes your job function?\":lambda x:x.value_counts().idxmax()\n",
    "\n",
    "}).reset_index()"
   ]
  },
  {
   "cell_type": "code",
   "execution_count": 0,
   "metadata": {
    "application/vnd.databricks.v1+cell": {
     "cellMetadata": {},
     "inputWidgets": {},
     "nuid": "4fa01761-79e0-462c-aa69-c831a5928954",
     "showTitle": false,
     "tableResultSettingsMap": {},
     "title": ""
    }
   },
   "outputs": [],
   "source": []
  }
 ],
 "metadata": {
  "application/vnd.databricks.v1+notebook": {
   "computePreferences": null,
   "dashboards": [],
   "environmentMetadata": {
    "base_environment": "",
    "environment_version": "2"
   },
   "inputWidgetPreferences": null,
   "language": "python",
   "notebookMetadata": {
    "pythonIndentUnit": 2
   },
   "notebookName": "visitors_profile_analysis",
   "widgets": {}
  },
  "language_info": {
   "name": "python"
  }
 },
 "nbformat": 4,
 "nbformat_minor": 0
}